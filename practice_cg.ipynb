{
 "cells": [
  {
   "cell_type": "code",
   "execution_count": 1,
   "metadata": {},
   "outputs": [
    {
     "data": {
      "text/plain": [
       "'/home/ayang41/Programs/mbuild/mbuild/__init__.py'"
      ]
     },
     "execution_count": 1,
     "metadata": {},
     "output_type": "execute_result"
    }
   ],
   "source": [
    "import mbuild as mb\n",
    "import numpy as np\n",
    "from mbuild.lib.moieties import CH2, CH3\n",
    "import inspect\n",
    "inspect.getfile(mb)"
   ]
  },
  {
   "cell_type": "code",
   "execution_count": 2,
   "metadata": {},
   "outputs": [
    {
     "name": "stderr",
     "output_type": "stream",
     "text": [
      "/home/ayang41/anaconda3/lib/python3.5/site-packages/pandas/io/parsers.py:2108: FutureWarning: split() requires a non-empty pattern match.\n",
      "  yield pat.split(line.strip())\n",
      "/home/ayang41/anaconda3/lib/python3.5/site-packages/pandas/io/parsers.py:2110: FutureWarning: split() requires a non-empty pattern match.\n",
      "  yield pat.split(line.strip())\n"
     ]
    }
   ],
   "source": [
    "propane=mb.load('propane.mol2')\n",
    "#particle_classes=[mb.load('A.pdb'), mb.load('B.pdb')]\n",
    "particle_classes=[CH2(), CH3()]\n"
   ]
  },
  {
   "cell_type": "code",
   "execution_count": 3,
   "metadata": {},
   "outputs": [
    {
     "name": "stdout",
     "output_type": "stream",
     "text": [
      "HELLO\n",
      "> /home/ayang41/Programs/mbuild/mbuild/coarse_graining.py(68)_create_proxy_compounds()\n",
      "-> if not type(real_thing) in particle_classes:\n",
      "(Pdb) l\n",
      " 63  \t    memo[real_thing] = proxy\n",
      " 64  \t    import pdb\n",
      " 65  \t    print(\"HELLO\")\n",
      " 66  \t    pdb.set_trace()\n",
      " 67  \t\n",
      " 68  ->\t    if not type(real_thing) in particle_classes:\n",
      " 69  \t        if not is_leaf(real_thing):  # Recurse only if it has parts.\n",
      " 70  \t            # Recursively create proxies for parts.\n",
      " 71  \t            for part in real_thing.children:\n",
      " 72  \t                part_proxy = _create_proxy_compounds(part, memo,\n",
      " 73  \t                                                     particle_classes)\n",
      "(Pdb) memo\n",
      "OrderedDict([(<Compound 11 particles, non-periodic, 10 bonds, id: 140471365231392>, <Compound (proxy)  pos=(-0.7010, 0.0524,-0.0009), 0 bonds, id: 140472172949176>)])\n",
      "(Pdb) proxy\n",
      "<Compound (proxy)  pos=(-0.7010, 0.0524,-0.0009), 0 bonds, id: 140472172949176>\n",
      "(Pdb) c\n",
      "HELLO\n",
      "> /home/ayang41/Programs/mbuild/mbuild/coarse_graining.py(68)_create_proxy_compounds()\n",
      "-> if not type(real_thing) in particle_classes:\n",
      "(Pdb) memo\n",
      "OrderedDict([(<Compound 11 particles, non-periodic, 10 bonds, id: 140471365231392>, <Compound (proxy)  pos=(-0.7010, 0.0524,-0.0009), 0 bonds, id: 140472172949176>), (<C pos=(-0.8262, 0.0268, 0.0022), 0 bonds, id: 140471205673728>, <C (proxy)  pos=(-0.8262, 0.0268, 0.0022), 0 bonds, id: 140471204643280>)])\n",
      "(Pdb) memo.keys()\n",
      "odict_keys([<Compound 11 particles, non-periodic, 10 bonds, id: 140471365231392>, <C pos=(-0.8262, 0.0268, 0.0022), 0 bonds, id: 140471205673728>])\n",
      "(Pdb) proxy\n",
      "<C (proxy)  pos=(-0.8262, 0.0268, 0.0022), 0 bonds, id: 140471204643280>\n",
      "(Pdb) l\n",
      " 63  \t    memo[real_thing] = proxy\n",
      " 64  \t    import pdb\n",
      " 65  \t    print(\"HELLO\")\n",
      " 66  \t    pdb.set_trace()\n",
      " 67  \t\n",
      " 68  ->\t    if not type(real_thing) in particle_classes:\n",
      " 69  \t        if not is_leaf(real_thing):  # Recurse only if it has parts.\n",
      " 70  \t            # Recursively create proxies for parts.\n",
      " 71  \t            for part in real_thing.children:\n",
      " 72  \t                part_proxy = _create_proxy_compounds(part, memo,\n",
      " 73  \t                                                     particle_classes)\n",
      "(Pdb) n\n",
      "> /home/ayang41/Programs/mbuild/mbuild/coarse_graining.py(69)_create_proxy_compounds()\n",
      "-> if not is_leaf(real_thing):  # Recurse only if it has parts.\n",
      "(Pdb) n\n",
      "> /home/ayang41/Programs/mbuild/mbuild/coarse_graining.py(71)_create_proxy_compounds()\n",
      "-> for part in real_thing.children:\n",
      "(Pdb) real_thing\n",
      "<C pos=(-0.8262, 0.0268, 0.0022), 0 bonds, id: 140471205673728>\n",
      "(Pdb) is_leaf(real_thing)\n",
      "False\n",
      "(Pdb) n\n",
      "Internal StopIteration\n",
      "> /home/ayang41/Programs/mbuild/mbuild/coarse_graining.py(71)_create_proxy_compounds()\n",
      "-> for part in real_thing.children:\n",
      "(Pdb) n\n",
      "> /home/ayang41/Programs/mbuild/mbuild/coarse_graining.py(76)_create_proxy_compounds()\n",
      "-> return proxy\n",
      "(Pdb) part\n",
      "*** NameError: name 'part' is not defined\n",
      "(Pdb) l\n",
      " 71  \t            for part in real_thing.children:\n",
      " 72  \t                part_proxy = _create_proxy_compounds(part, memo,\n",
      " 73  \t                                                     particle_classes)\n",
      " 74  \t                proxy.add(part_proxy)\n",
      " 75  \t\n",
      " 76  ->\t    return proxy\n",
      " 77  \t\n",
      " 78  \t\n",
      " 79  \tdef _proxy_of(real_thing, memo):\n",
      " 80  \t    if real_thing in memo:\n",
      " 81  \t        return memo[real_thing]\n",
      "(Pdb) n\n",
      "--Return--\n",
      "> /home/ayang41/Programs/mbuild/mbuild/coarse_graining.py(76)_create_proxy_compounds()-><C (proxy)  p...0471204643280>\n",
      "-> return proxy\n",
      "(Pdb) l\n",
      " 71  \t            for part in real_thing.children:\n",
      " 72  \t                part_proxy = _create_proxy_compounds(part, memo,\n",
      " 73  \t                                                     particle_classes)\n",
      " 74  \t                proxy.add(part_proxy)\n",
      " 75  \t\n",
      " 76  ->\t    return proxy\n",
      " 77  \t\n",
      " 78  \t\n",
      " 79  \tdef _proxy_of(real_thing, memo):\n",
      " 80  \t    if real_thing in memo:\n",
      " 81  \t        return memo[real_thing]\n",
      "(Pdb) proxy\n",
      "<C (proxy)  pos=(-0.8262, 0.0268, 0.0022), 0 bonds, id: 140471204643280>\n",
      "(Pdb) n\n",
      "> /home/ayang41/Programs/mbuild/mbuild/coarse_graining.py(74)_create_proxy_compounds()\n",
      "-> proxy.add(part_proxy)\n",
      "(Pdb) proxy\n",
      "<Compound (proxy)  pos=(-0.7010, 0.0524,-0.0009), 0 bonds, id: 140472172949176>\n",
      "(Pdb) n\n",
      "> /home/ayang41/Programs/mbuild/mbuild/coarse_graining.py(71)_create_proxy_compounds()\n",
      "-> for part in real_thing.children:\n",
      "(Pdb) proxy\n",
      "<Compound (proxy)  1 particles, non-periodic, 0 bonds, id: 140472172949176>\n",
      "(Pdb) real_th9ing\n",
      "*** NameError: name 'real_th9ing' is not defined\n",
      "(Pdb) real_thing\n",
      "<Compound 11 particles, non-periodic, 10 bonds, id: 140471365231392>\n",
      "(Pdb) proxy\n",
      "<Compound (proxy)  1 particles, non-periodic, 0 bonds, id: 140472172949176>\n",
      "(Pdb) n\n",
      "> /home/ayang41/Programs/mbuild/mbuild/coarse_graining.py(72)_create_proxy_compounds()\n",
      "-> part_proxy = _create_proxy_compounds(part, memo,\n",
      "(Pdb) n\n",
      "> /home/ayang41/Programs/mbuild/mbuild/coarse_graining.py(73)_create_proxy_compounds()\n",
      "-> particle_classes)\n",
      "(Pdb) n\n",
      "HELLO\n",
      "> /home/ayang41/Programs/mbuild/mbuild/coarse_graining.py(68)_create_proxy_compounds()\n",
      "-> if not type(real_thing) in particle_classes:\n",
      "(Pdb) n\n",
      "> /home/ayang41/Programs/mbuild/mbuild/coarse_graining.py(69)_create_proxy_compounds()\n",
      "-> if not is_leaf(real_thing):  # Recurse only if it has parts.\n",
      "(Pdb) real_thing\n",
      "<C pos=(-0.7020, 0.1143, 0.0018), 0 bonds, id: 140472202901376>\n",
      "(Pdb) propane[2]\n",
      "*** NameError: name 'propane' is not defined\n",
      "(Pdb) real_thing\n",
      "<C pos=(-0.7020, 0.1143, 0.0018), 0 bonds, id: 140472202901376>\n",
      "(Pdb) c\n",
      "HELLO\n",
      "> /home/ayang41/Programs/mbuild/mbuild/coarse_graining.py(68)_create_proxy_compounds()\n",
      "-> if not type(real_thing) in particle_classes:\n",
      "(Pdb) c\n",
      "HELLO\n",
      "> /home/ayang41/Programs/mbuild/mbuild/coarse_graining.py(68)_create_proxy_compounds()\n",
      "-> if not type(real_thing) in particle_classes:\n",
      "(Pdb) c\n",
      "HELLO\n",
      "> /home/ayang41/Programs/mbuild/mbuild/coarse_graining.py(68)_create_proxy_compounds()\n",
      "-> if not type(real_thing) in particle_classes:\n",
      "(Pdb) c\n",
      "HELLO\n",
      "> /home/ayang41/Programs/mbuild/mbuild/coarse_graining.py(68)_create_proxy_compounds()\n",
      "-> if not type(real_thing) in particle_classes:\n",
      "(Pdb) c\n",
      "HELLO\n",
      "> /home/ayang41/Programs/mbuild/mbuild/coarse_graining.py(68)_create_proxy_compounds()\n",
      "-> if not type(real_thing) in particle_classes:\n",
      "(Pdb) c\n",
      "HELLO\n",
      "> /home/ayang41/Programs/mbuild/mbuild/coarse_graining.py(68)_create_proxy_compounds()\n",
      "-> if not type(real_thing) in particle_classes:\n",
      "(Pdb) c\n",
      "HELLO\n",
      "> /home/ayang41/Programs/mbuild/mbuild/coarse_graining.py(68)_create_proxy_compounds()\n",
      "-> if not type(real_thing) in particle_classes:\n",
      "(Pdb) c\n",
      "HELLO\n",
      "> /home/ayang41/Programs/mbuild/mbuild/coarse_graining.py(68)_create_proxy_compounds()\n",
      "-> if not type(real_thing) in particle_classes:\n",
      "(Pdb) c\n",
      "HELLO\n",
      "> /home/ayang41/Programs/mbuild/mbuild/coarse_graining.py(68)_create_proxy_compounds()\n",
      "-> if not type(real_thing) in particle_classes:\n",
      "(Pdb) real_hting\n",
      "*** NameError: name 'real_hting' is not defined\n",
      "(Pdb) real_thing\n",
      "<H pos=(-0.5739,-0.0306,-0.0964), 0 bonds, id: 140471205671320>\n",
      "(Pdb) proxy\n",
      "<H (proxy)  pos=(-0.5739,-0.0306,-0.0964), 0 bonds, id: 140471204631328>\n",
      "(Pdb) c\n",
      "<Compound (proxy)  11 particles, non-periodic, 10 bonds, id: 140472172949176>\n"
     ]
    }
   ],
   "source": [
    "cg_propane = mb.coarse_grain(propane, particle_classes=particle_classes)\n",
    "print(cg_propane)"
   ]
  },
  {
   "cell_type": "code",
   "execution_count": 4,
   "metadata": {},
   "outputs": [
    {
     "data": {
      "text/plain": [
       "[<CH2 3 particles, non-periodic, 2 bonds, id: 140471365231504>,\n",
       " <CH3 4 particles, non-periodic, 3 bonds, id: 140471204667464>]"
      ]
     },
     "execution_count": 4,
     "metadata": {},
     "output_type": "execute_result"
    }
   ],
   "source": [
    "not type(propane) in particle_classes\n",
    "particle_classes"
   ]
  },
  {
   "cell_type": "code",
   "execution_count": null,
   "metadata": {
    "collapsed": true
   },
   "outputs": [],
   "source": []
  }
 ],
 "metadata": {
  "kernelspec": {
   "display_name": "Python 3",
   "language": "python",
   "name": "python3"
  },
  "language_info": {
   "codemirror_mode": {
    "name": "ipython",
    "version": 3
   },
   "file_extension": ".py",
   "mimetype": "text/x-python",
   "name": "python",
   "nbconvert_exporter": "python",
   "pygments_lexer": "ipython3",
   "version": "3.5.3"
  }
 },
 "nbformat": 4,
 "nbformat_minor": 2
}
